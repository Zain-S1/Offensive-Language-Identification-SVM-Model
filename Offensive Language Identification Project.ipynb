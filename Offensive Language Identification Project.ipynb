{
 "cells": [
  {
   "cell_type": "code",
   "execution_count": 48,
   "metadata": {
    "id": "VTXh1RXwG22c"
   },
   "outputs": [],
   "source": [
    "import pandas as pd\n",
    "import random\n",
    "\n",
    "from sklearn.feature_extraction.text import TfidfVectorizer\n",
    "from sklearn.pipeline import Pipeline\n",
    "from sklearn.svm import LinearSVC\n",
    "from sklearn import metrics"
   ]
  },
  {
   "cell_type": "code",
   "execution_count": 49,
   "metadata": {
    "id": "VGDlEwpbHSPw"
   },
   "outputs": [],
   "source": [
    "df = pd.read_csv('olid-training-v1.0.tsv', sep='\\t')"
   ]
  },
  {
   "cell_type": "code",
   "execution_count": 50,
   "metadata": {
    "colab": {
     "base_uri": "https://localhost:8080/",
     "height": 206
    },
    "id": "x79pHvTMHS_7",
    "outputId": "0b9efcf0-2d2b-4ba9-bf0e-899726964f19"
   },
   "outputs": [
    {
     "data": {
      "text/html": [
       "<div>\n",
       "<style scoped>\n",
       "    .dataframe tbody tr th:only-of-type {\n",
       "        vertical-align: middle;\n",
       "    }\n",
       "\n",
       "    .dataframe tbody tr th {\n",
       "        vertical-align: top;\n",
       "    }\n",
       "\n",
       "    .dataframe thead th {\n",
       "        text-align: right;\n",
       "    }\n",
       "</style>\n",
       "<table border=\"1\" class=\"dataframe\">\n",
       "  <thead>\n",
       "    <tr style=\"text-align: right;\">\n",
       "      <th></th>\n",
       "      <th>id</th>\n",
       "      <th>tweet</th>\n",
       "      <th>subtask_a</th>\n",
       "    </tr>\n",
       "  </thead>\n",
       "  <tbody>\n",
       "    <tr>\n",
       "      <th>0</th>\n",
       "      <td>86426</td>\n",
       "      <td>@USER She should ask a few native Americans wh...</td>\n",
       "      <td>OFF</td>\n",
       "    </tr>\n",
       "    <tr>\n",
       "      <th>1</th>\n",
       "      <td>90194</td>\n",
       "      <td>@USER @USER Go home you‚Äôre drunk!!! @USER #M...</td>\n",
       "      <td>OFF</td>\n",
       "    </tr>\n",
       "    <tr>\n",
       "      <th>2</th>\n",
       "      <td>16820</td>\n",
       "      <td>Amazon is investigating Chinese employees who ...</td>\n",
       "      <td>NOT</td>\n",
       "    </tr>\n",
       "    <tr>\n",
       "      <th>3</th>\n",
       "      <td>62688</td>\n",
       "      <td>@USER Someone should'veTaken\" this piece of sh...</td>\n",
       "      <td>OFF</td>\n",
       "    </tr>\n",
       "    <tr>\n",
       "      <th>4</th>\n",
       "      <td>43605</td>\n",
       "      <td>@USER @USER Obama wanted liberals &amp;amp; illega...</td>\n",
       "      <td>NOT</td>\n",
       "    </tr>\n",
       "  </tbody>\n",
       "</table>\n",
       "</div>"
      ],
      "text/plain": [
       "      id                                              tweet subtask_a\n",
       "0  86426  @USER She should ask a few native Americans wh...       OFF\n",
       "1  90194  @USER @USER Go home you‚Äôre drunk!!! @USER #M...       OFF\n",
       "2  16820  Amazon is investigating Chinese employees who ...       NOT\n",
       "3  62688  @USER Someone should'veTaken\" this piece of sh...       OFF\n",
       "4  43605  @USER @USER Obama wanted liberals &amp; illega...       NOT"
      ]
     },
     "execution_count": 50,
     "metadata": {},
     "output_type": "execute_result"
    }
   ],
   "source": [
    "df.head()"
   ]
  },
  {
   "cell_type": "code",
   "execution_count": 51,
   "metadata": {
    "colab": {
     "base_uri": "https://localhost:8080/"
    },
    "id": "K7QquypKXvR6",
    "outputId": "5f5506b0-d377-49e9-d645-0a9a0b747478",
    "scrolled": true
   },
   "outputs": [
    {
     "data": {
      "text/plain": [
       " id          0\n",
       "tweet        0\n",
       "subtask_a    0\n",
       "dtype: int64"
      ]
     },
     "execution_count": 51,
     "metadata": {},
     "output_type": "execute_result"
    }
   ],
   "source": [
    "df.isnull().sum()"
   ]
  },
  {
   "cell_type": "code",
   "execution_count": 52,
   "metadata": {
    "colab": {
     "base_uri": "https://localhost:8080/"
    },
    "id": "aFWQocerX_Ts",
    "outputId": "41822a3b-1a83-403e-d4d7-2a2ebeb5e2f4"
   },
   "outputs": [
    {
     "data": {
      "text/plain": [
       "array(['OFF', 'NOT'], dtype=object)"
      ]
     },
     "execution_count": 52,
     "metadata": {},
     "output_type": "execute_result"
    }
   ],
   "source": [
    "df['subtask_a'].unique()"
   ]
  },
  {
   "cell_type": "code",
   "execution_count": 53,
   "metadata": {
    "colab": {
     "base_uri": "https://localhost:8080/"
    },
    "id": "_Pw5w--qYDAd",
    "outputId": "070db8a2-a1a7-49bf-dab2-4df3dd22aa58"
   },
   "outputs": [
    {
     "data": {
      "text/plain": [
       "NOT    8841\n",
       "OFF    4640\n",
       "Name: subtask_a, dtype: int64"
      ]
     },
     "execution_count": 53,
     "metadata": {},
     "output_type": "execute_result"
    }
   ],
   "source": [
    "df['subtask_a'].value_counts()"
   ]
  },
  {
   "cell_type": "code",
   "execution_count": 54,
   "metadata": {
    "id": "J5JzmuZEHV1h"
   },
   "outputs": [],
   "source": [
    "x_train = df['tweet']\n",
    "y_train = df['subtask_a']"
   ]
  },
  {
   "cell_type": "code",
   "execution_count": 55,
   "metadata": {
    "colab": {
     "base_uri": "https://localhost:8080/"
    },
    "id": "MSPqg9ZVXy1j",
    "outputId": "106f1016-8bdb-4792-9ce2-1f9b3e71e268"
   },
   "outputs": [
    {
     "name": "stdout",
     "output_type": "stream",
     "text": [
      "(13481,)\n",
      "(13481,)\n"
     ]
    }
   ],
   "source": [
    "print(x_train.shape)\n",
    "print(y_train.shape)"
   ]
  },
  {
   "cell_type": "code",
   "execution_count": 56,
   "metadata": {
    "id": "5KJaB8EsHdcW"
   },
   "outputs": [],
   "source": [
    "x = pd.read_csv('testset-levela.tsv', sep='\\t')\n",
    "x_test = x['tweet']"
   ]
  },
  {
   "cell_type": "code",
   "execution_count": 57,
   "metadata": {
    "id": "5Oir6MukHqfr"
   },
   "outputs": [],
   "source": [
    "y = pd.read_csv('labels-levela.csv', sep='\\t')\n",
    "y_test = y['OFF']"
   ]
  },
  {
   "cell_type": "code",
   "execution_count": 58,
   "metadata": {
    "colab": {
     "base_uri": "https://localhost:8080/"
    },
    "id": "khM8N6eUX4hO",
    "outputId": "da1cfe7a-268c-4df1-9b1d-4e6cc25c5950"
   },
   "outputs": [
    {
     "name": "stdout",
     "output_type": "stream",
     "text": [
      "(860,)\n",
      "(860,)\n"
     ]
    }
   ],
   "source": [
    "print(x_test.shape)\n",
    "print(y_test.shape)"
   ]
  },
  {
   "cell_type": "code",
   "execution_count": 59,
   "metadata": {
    "colab": {
     "base_uri": "https://localhost:8080/"
    },
    "id": "Oepev2ILNGAE",
    "outputId": "cb91cb90-cac5-4441-e7cd-2a61b1892218"
   },
   "outputs": [
    {
     "data": {
      "text/plain": [
       "Pipeline(steps=[('n-gram', TfidfVectorizer(ngram_range=(1, 2))),\n",
       "                ('clf', LinearSVC())])"
      ]
     },
     "execution_count": 59,
     "metadata": {},
     "output_type": "execute_result"
    }
   ],
   "source": [
    "text_clf = Pipeline([('n-gram', TfidfVectorizer(ngram_range=(1,2))), \n",
    "                     ('clf', LinearSVC())])\n",
    "\n",
    "text_clf.fit(x_train, y_train)"
   ]
  },
  {
   "cell_type": "code",
   "execution_count": 60,
   "metadata": {
    "id": "1j_PJm8sOXrd"
   },
   "outputs": [],
   "source": [
    "y_pred = text_clf.predict(x_test)"
   ]
  },
  {
   "cell_type": "code",
   "execution_count": 61,
   "metadata": {
    "colab": {
     "base_uri": "https://localhost:8080/"
    },
    "id": "0c7QZOHSOcvJ",
    "outputId": "7525db2e-9f7f-4bd9-b4ec-995505c16123"
   },
   "outputs": [
    {
     "name": "stdout",
     "output_type": "stream",
     "text": [
      "              precision    recall  f1-score   support\n",
      "\n",
      "         NOT       1.00      0.89      0.94       620\n",
      "         OFF       0.77      1.00      0.87       240\n",
      "\n",
      "    accuracy                           0.92       860\n",
      "   macro avg       0.89      0.94      0.91       860\n",
      "weighted avg       0.94      0.92      0.92       860\n",
      "\n"
     ]
    }
   ],
   "source": [
    "print(metrics.classification_report(y_test, y_pred))"
   ]
  },
  {
   "cell_type": "code",
   "execution_count": 62,
   "metadata": {
    "colab": {
     "base_uri": "https://localhost:8080/"
    },
    "id": "4R2ehuMDLAVw",
    "outputId": "de6fbaa8-2c35-452e-c725-2216a059f45f"
   },
   "outputs": [
    {
     "name": "stdout",
     "output_type": "stream",
     "text": [
      "0.9174418604651163\n"
     ]
    }
   ],
   "source": [
    "print(metrics.accuracy_score(y_test, y_pred))"
   ]
  },
  {
   "cell_type": "code",
   "execution_count": 63,
   "metadata": {
    "id": "0iGtvm8Mmoj3"
   },
   "outputs": [],
   "source": [
    "offensive = [\"This is rude.\", \"This message is offensive.\", \"This one is not OK.\", \"This message is not polite.\"]\n",
    "\n",
    "neutral = [\"This seems fine.\", \"This message is not offensive.\", \"This one is OK.\", \"This message pass\"]"
   ]
  },
  {
   "cell_type": "code",
   "execution_count": 64,
   "metadata": {},
   "outputs": [
    {
     "name": "stdout",
     "output_type": "stream",
     "text": [
      "Requirement already satisfied: pysimplegui in /Users/dan/opt/anaconda3/lib/python3.9/site-packages (4.60.3)\r\n"
     ]
    }
   ],
   "source": [
    "!pip install pysimplegui"
   ]
  },
  {
   "cell_type": "code",
   "execution_count": 65,
   "metadata": {},
   "outputs": [],
   "source": [
    "import PySimpleGUI as sg\n",
    "from PIL import Image"
   ]
  },
  {
   "cell_type": "code",
   "execution_count": 88,
   "metadata": {},
   "outputs": [],
   "source": [
    "sg.theme('BlueMono')     \n",
    "  \n",
    "layout = [\n",
    "    [sg.Text('Hi there!')],\n",
    "    [sg.Text('My name is Polite!')],\n",
    "    [sg.Text('And I am here to help you identify an offensive text.')],\n",
    "    [sg.Image('polite.png')],\n",
    "    [sg.Text('Please enter a message to check:')],\n",
    "    [sg.Text(size =(20, 1)), sg.InputText()],\n",
    "    [sg.Button(\"Check!\"), sg.Cancel()]\n",
    "]\n",
    "\n",
    "window = sg.Window('Polite - The Offensive Language Checker', layout, margins=(20, 20), )\n",
    "event, values = window.read()\n",
    "window.close()\n",
    "  \n",
    "res = text_clf.predict(pd.Series(values))\n",
    "\n",
    "if res == \"OFF\":\n",
    "    sg.Window(title=\"Polite - The Offensive Language Checker\", layout=[\n",
    "    [sg.Text(random.choice(offensive)+'\\n')]\n",
    "    ], margins=(50, 50)).read()\n",
    "else:\n",
    "    sg.Window(title=\"Polite - The Offensive Language Checker\", layout=[\n",
    "    [sg.Text(random.choice(neutral)+'\\n')]\n",
    "    ], margins=(50, 50)).read()"
   ]
  },
  {
   "cell_type": "code",
   "execution_count": null,
   "metadata": {},
   "outputs": [],
   "source": []
  }
 ],
 "metadata": {
  "colab": {
   "collapsed_sections": [],
   "name": "OLI_Project.ipynb",
   "provenance": []
  },
  "kernelspec": {
   "display_name": "Python 3 (ipykernel)",
   "language": "python",
   "name": "python3"
  },
  "language_info": {
   "codemirror_mode": {
    "name": "ipython",
    "version": 3
   },
   "file_extension": ".py",
   "mimetype": "text/x-python",
   "name": "python",
   "nbconvert_exporter": "python",
   "pygments_lexer": "ipython3",
   "version": "3.9.12"
  }
 },
 "nbformat": 4,
 "nbformat_minor": 1
}
